{
  "nbformat": 4,
  "nbformat_minor": 0,
  "metadata": {
    "colab": {
      "provenance": [],
      "authorship_tag": "ABX9TyPqcnd4T22naYO2tHIM29qL",
      "include_colab_link": true
    },
    "kernelspec": {
      "name": "python3",
      "display_name": "Python 3"
    },
    "language_info": {
      "name": "python"
    }
  },
  "cells": [
    {
      "cell_type": "markdown",
      "metadata": {
        "id": "view-in-github",
        "colab_type": "text"
      },
      "source": [
        "<a href=\"https://colab.research.google.com/github/aah217/ai-science-training-series/blob/main/04_modern_neural_networks/homework_4.ipynb\" target=\"_parent\"><img src=\"https://colab.research.google.com/assets/colab-badge.svg\" alt=\"Open In Colab\"/></a>"
      ]
    },
    {
      "cell_type": "code",
      "execution_count": 38,
      "metadata": {
        "colab": {
          "base_uri": "https://localhost:8080/"
        },
        "id": "bFSOUKtb7Fwe",
        "outputId": "ba3164ca-ef48-42ae-b523-69119af90eb6"
      },
      "outputs": [
        {
          "output_type": "stream",
          "name": "stdout",
          "text": [
            "Looking in indexes: https://pypi.org/simple, https://us-python.pkg.dev/colab-wheels/public/simple/\n",
            "Collecting python3-wget\n",
            "  Downloading python3-wget-0.0.2-beta1.tar.gz (7.6 kB)\n",
            "Collecting hurry.filesize\n",
            "  Downloading hurry.filesize-0.9.tar.gz (2.8 kB)\n",
            "Requirement already satisfied: setuptools in /usr/local/lib/python3.7/dist-packages (from hurry.filesize->python3-wget) (57.4.0)\n",
            "Building wheels for collected packages: python3-wget, hurry.filesize\n",
            "  Building wheel for python3-wget (setup.py) ... \u001b[?25l\u001b[?25hdone\n",
            "  Created wheel for python3-wget: filename=python3_wget-0.0.2b1-py3-none-any.whl size=8014 sha256=d22656abb96bc2117270f1406b2ad6aa4263dabe6eda8654c8bdc30a022114b8\n",
            "  Stored in directory: /root/.cache/pip/wheels/52/35/d2/b16d60fcf42b7dcf597af854f195085d62722dd7f5a71ecc25\n",
            "  Building wheel for hurry.filesize (setup.py) ... \u001b[?25l\u001b[?25hdone\n",
            "  Created wheel for hurry.filesize: filename=hurry.filesize-0.9-py3-none-any.whl size=4133 sha256=fe0934e345f592d9cb101507d612929d18152b0a0acfda41a3fe0c8a80783041\n",
            "  Stored in directory: /root/.cache/pip/wheels/2c/99/7f/8c88c372b4bd642a731232e63cb89467554f6cea7708574e49\n",
            "Successfully built python3-wget hurry.filesize\n",
            "Installing collected packages: hurry.filesize, python3-wget\n",
            "Successfully installed hurry.filesize-0.9 python3-wget-0.0.2b1\n"
          ]
        }
      ],
      "source": [
        "import matplotlib.pyplot as plt\n",
        "%matplotlib inline\n",
        "!pip install python3-wget\n",
        "import wget\n",
        "import re"
      ]
    },
    {
      "cell_type": "code",
      "source": [
        "filename = wget.download('https://raw.githubusercontent.com/aah217/ai-science-training-series/main/04_modern_neural_networks/10110184.output')\n",
        "with open(filename) as f:\n",
        "  times = []\n",
        "  accus = []\n",
        "  losses = []\n",
        "  for line in f:\n",
        "    check = re.match(r\"Validation\",line)\n",
        "    if check is not None: \n",
        "      #break at end of first epoch\n",
        "      break\n",
        "    check = re.match(r\"Finished\",line)\n",
        "    if check is not None: \n",
        "      #grab stuff\n",
        "      times.append(float(re.search(\"step (\\d+)\",line).group(1)))\n",
        "      losses.append(float(re.search(\"loss=(.+),\",line).group(1)))\n",
        "      accus.append(float(re.search(r\"acc=(.+) \\(\",line).group(1)))\n",
        "#check the amount of data we grabbed makes sense\n",
        "print(len(times))\n",
        "print(len(times)==len(accus) and len(accus)==len(losses))"
      ],
      "metadata": {
        "colab": {
          "base_uri": "https://localhost:8080/"
        },
        "id": "f1H3Gv4H--zz",
        "outputId": "c5c65163-f154-4a30-859a-cfe1689e3185"
      },
      "execution_count": 54,
      "outputs": [
        {
          "output_type": "stream",
          "name": "stdout",
          "text": [
            "5004\n",
            "True\n"
          ]
        }
      ]
    },
    {
      "cell_type": "code",
      "source": [
        "plt.plot(times,accus,label=\"Accuaracy\")\n",
        "plt.legend()\n"
      ],
      "metadata": {
        "colab": {
          "base_uri": "https://localhost:8080/",
          "height": 282
        },
        "id": "SBLi4aMd7WmB",
        "outputId": "f8a6258d-4609-4702-8c17-9b8850a579ad"
      },
      "execution_count": 50,
      "outputs": [
        {
          "output_type": "execute_result",
          "data": {
            "text/plain": [
              "<matplotlib.legend.Legend at 0x7f46877a6390>"
            ]
          },
          "metadata": {},
          "execution_count": 50
        },
        {
          "output_type": "display_data",
          "data": {
            "text/plain": [
              "<Figure size 432x288 with 1 Axes>"
            ],
            "image/png": "[encoded data removed]"
          },
          "metadata": {
            "needs_background": "light"
          }
        }
      ]
    },
    {
      "cell_type": "code",
      "source": [
        "plt.plot(times,losses,label=\"Loss\")\n",
        "plt.yscale(\"log\")\n",
        "plt.legend()"
      ],
      "metadata": {
        "colab": {
          "base_uri": "https://localhost:8080/",
          "height": 282
        },
        "id": "O2KZmTG58KT3",
        "outputId": "d5eb6543-008c-477d-d536-3a31060a8210"
      },
      "execution_count": 52,
      "outputs": [
        {
          "output_type": "execute_result",
          "data": {
            "text/plain": [
              "<matplotlib.legend.Legend at 0x7f468778a0d0>"
            ]
          },
          "metadata": {},
          "execution_count": 52
        },
        {
          "output_type": "display_data",
          "data": {
            "text/plain": [
              "<Figure size 432x288 with 1 Axes>"
            ],
            "image/png": "[encoded data removed]"
          },
          "metadata": {
            "needs_background": "light"
          }
        }
      ]
    }
  ]
}