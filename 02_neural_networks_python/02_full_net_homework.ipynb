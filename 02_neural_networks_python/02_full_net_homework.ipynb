{
  "cells": [
    {
      "cell_type": "code",
      "execution_count": 5,
      "id": "662a93d1",
      "metadata": {
        "id": "662a93d1",
        "outputId": "77b21ac9-1975-4cff-e372-8bfa6a1be954",
        "colab": {
          "base_uri": "https://localhost:8080/"
        }
      },
      "outputs": [
        {
          "output_type": "stream",
          "name": "stdout",
          "text": [
            "Cloning into 'ai-science-training-series'...\n",
            "remote: Enumerating objects: 1809, done.\u001b[K\n",
            "remote: Counting objects: 100% (427/427), done.\u001b[K\n",
            "remote: Compressing objects: 100% (157/157), done.\u001b[K\n",
            "remote: Total 1809 (delta 308), reused 359 (delta 268), pack-reused 1382\u001b[K\n",
            "Receiving objects: 100% (1809/1809), 202.41 MiB | 32.71 MiB/s, done.\n",
            "Resolving deltas: 100% (891/891), done.\n",
            "Checking out files: 100% (240/240), done.\n",
            "/content/ai-science-training-series/02_neural_networks_python\n",
            "The autoreload extension is already loaded. To reload it, use:\n",
            "  %reload_ext autoreload\n"
          ]
        }
      ],
      "source": [
        "!git clone https://github.com/argonne-lcf/ai-science-training-series.git\n",
        "%cd ai-science-training-series/02_neural_networks_python/\n",
        "%load_ext autoreload\n",
        "%autoreload 2"
      ]
    },
    {
      "cell_type": "code",
      "execution_count": 2,
      "id": "e19878bb",
      "metadata": {
        "id": "e19878bb"
      },
      "outputs": [],
      "source": [
        "%matplotlib inline\n",
        "\n",
        "import tensorflow as tf\n",
        "\n",
        "import numpy\n",
        "import matplotlib.pyplot as plt"
      ]
    },
    {
      "cell_type": "code",
      "execution_count": 20,
      "id": "da412dba",
      "metadata": {
        "id": "da412dba",
        "outputId": "47de98b1-4af9-446a-b454-f322093baa5c",
        "colab": {
          "base_uri": "https://localhost:8080/"
        }
      },
      "outputs": [
        {
          "output_type": "stream",
          "name": "stdout",
          "text": [
            "(60000, 28, 28)\n",
            "(60000, 784)\n",
            "\n",
            "MNIST data loaded: train: 60000 test: 10000\n",
            "X_train: (60000, 784)\n",
            "y_train: (60000,)\n"
          ]
        }
      ],
      "source": [
        "# repeating the data prep from the previous notebook\n",
        "(x_train, y_train), (x_test, y_test) = tf.keras.datasets.mnist.load_data()\n",
        "x_train = x_train.astype(numpy.float32)\n",
        "x_test  = x_test.astype(numpy.float32)\n",
        "\n",
        "x_train /= 255.\n",
        "x_test  /= 255.\n",
        "\n",
        "print(x_train.shape)\n",
        "x_train = x_train.reshape(x_train.shape[0], numpy.prod(x_train[0,:,:].shape))\n",
        "x_test = x_test.reshape(x_test.shape[0], numpy.prod(x_test[0,:,:].shape))\n",
        "\n",
        "print(x_train.shape)\n",
        "y_train = y_train.astype(numpy.int32)\n",
        "y_test  = y_test.astype(numpy.int32)\n",
        "\n",
        "print()\n",
        "print('MNIST data loaded: train:',len(x_train),'test:',len(x_test))\n",
        "print('X_train:', x_train.shape)\n",
        "print('y_train:', y_train.shape)\n",
        "\n",
        "# one-hot encoding:\n",
        "nb_classes = 10\n",
        "y_train_onehot = tf.keras.utils.to_categorical(y_train, nb_classes)\n",
        "y_test_onehot = tf.keras.utils.to_categorical(y_test, nb_classes)"
      ]
    },
    {
      "cell_type": "code",
      "execution_count": 21,
      "id": "302994b1",
      "metadata": {
        "id": "302994b1"
      },
      "outputs": [],
      "source": [
        "# Here we import an implementation of a two-layer neural network \n",
        "# this code is based on pieces of the first assignment from Stanford's CSE231n course, \n",
        "# hosted at https://github.com/cs231n/cs231n.github.io with the MIT license\n",
        "from fc_net import TwoLayerNet"
      ]
    },
    {
      "cell_type": "code",
      "execution_count": 22,
      "id": "4e00e3de",
      "metadata": {
        "id": "4e00e3de"
      },
      "outputs": [],
      "source": [
        "num_features = x_train.shape[1] # this is the number of pixels\n",
        "# The weights are initialized from a normal distribution with standard deviation weight_scale\n",
        "model = TwoLayerNet(input_dim=num_features, hidden_dim=100, num_classes=nb_classes, weight_scale=.01)"
      ]
    },
    {
      "cell_type": "code",
      "execution_count": 23,
      "id": "32f7f1aa",
      "metadata": {
        "id": "32f7f1aa"
      },
      "outputs": [],
      "source": [
        "# here you can take a look if you want at the initial loss from an untrained network\n",
        "loss, gradients = model.loss(x_train, y_train_onehot)"
      ]
    },
    {
      "cell_type": "code",
      "execution_count": 24,
      "id": "c43e3aa5",
      "metadata": {
        "id": "c43e3aa5"
      },
      "outputs": [],
      "source": [
        "# a simple implementation of stochastic gradient descent\n",
        "def sgd(model, gradients, learning_rate):\n",
        "    for p, w in model.params.items():\n",
        "        dw = gradients[p]\n",
        "        new_weights = w - learning_rate * dw\n",
        "        model.params[p] = new_weights\n",
        "    return model"
      ]
    },
    {
      "cell_type": "code",
      "execution_count": 25,
      "id": "c8316228",
      "metadata": {
        "id": "c8316228"
      },
      "outputs": [],
      "source": [
        "# one training step\n",
        "def learn(model, x_train, y_train_onehot, learning_rate):\n",
        "    loss, gradients = model.loss(x_train, y_train_onehot)\n",
        "    model = sgd(model, gradients, learning_rate)\n",
        "    return loss, model"
      ]
    },
    {
      "cell_type": "code",
      "execution_count": 26,
      "id": "81886e8c",
      "metadata": {
        "id": "81886e8c"
      },
      "outputs": [],
      "source": [
        "def accuracy(model, x, true_values):\n",
        "    scores = model.loss(x)\n",
        "    predictions = numpy.argmax(scores, axis=1)\n",
        "    N = predictions.shape[0]\n",
        "    acc = (true_values == predictions).sum() / N\n",
        "    return acc"
      ]
    },
    {
      "cell_type": "code",
      "execution_count": 27,
      "id": "49754891",
      "metadata": {
        "id": "49754891",
        "outputId": "7de8bc5b-0b6d-4364-da8f-ca8760352dad",
        "colab": {
          "base_uri": "https://localhost:8080/",
          "height": 924
        }
      },
      "outputs": [
        {
          "output_type": "stream",
          "name": "stdout",
          "text": [
            "epoch 0, loss 2.30234, accuracy 0.14\n",
            "epoch 1, loss 2.30173, accuracy 0.16\n",
            "epoch 2, loss 2.30134, accuracy 0.18\n",
            "epoch 3, loss 2.30079, accuracy 0.20\n",
            "epoch 4, loss 2.30028, accuracy 0.23\n",
            "epoch 5, loss 2.29959, accuracy 0.25\n",
            "epoch 6, loss 2.29905, accuracy 0.27\n",
            "epoch 7, loss 2.29856, accuracy 0.29\n",
            "epoch 8, loss 2.29807, accuracy 0.31\n",
            "epoch 9, loss 2.29753, accuracy 0.32\n",
            "epoch 10, loss 2.29680, accuracy 0.33\n",
            "epoch 11, loss 2.29630, accuracy 0.35\n",
            "epoch 12, loss 2.29564, accuracy 0.36\n",
            "epoch 13, loss 2.29493, accuracy 0.37\n",
            "epoch 14, loss 2.29443, accuracy 0.38\n",
            "epoch 15, loss 2.29356, accuracy 0.39\n",
            "epoch 16, loss 2.29264, accuracy 0.40\n",
            "epoch 17, loss 2.29211, accuracy 0.40\n",
            "epoch 18, loss 2.29126, accuracy 0.41\n",
            "epoch 19, loss 2.29041, accuracy 0.41\n",
            "epoch 20, loss 2.28996, accuracy 0.42\n",
            "epoch 21, loss 2.28873, accuracy 0.42\n",
            "epoch 22, loss 2.28772, accuracy 0.42\n",
            "epoch 23, loss 2.28673, accuracy 0.42\n",
            "epoch 24, loss 2.28584, accuracy 0.42\n",
            "epoch 25, loss 2.28473, accuracy 0.42\n",
            "epoch 26, loss 2.28346, accuracy 0.42\n",
            "epoch 27, loss 2.28227, accuracy 0.42\n",
            "epoch 28, loss 2.28113, accuracy 0.42\n",
            "epoch 29, loss 2.27977, accuracy 0.42\n",
            "epoch 30, loss 2.27812, accuracy 0.42\n",
            "epoch 31, loss 2.27678, accuracy 0.42\n",
            "epoch 32, loss 2.27554, accuracy 0.42\n",
            "epoch 33, loss 2.27426, accuracy 0.41\n",
            "epoch 34, loss 2.27183, accuracy 0.41\n",
            "epoch 35, loss 2.27092, accuracy 0.41\n",
            "epoch 36, loss 2.26869, accuracy 0.41\n"
          ]
        },
        {
          "output_type": "execute_result",
          "data": {
            "text/plain": [
              "[<matplotlib.lines.Line2D at 0x7fdcd46db0d0>]"
            ]
          },
          "metadata": {},
          "execution_count": 27
        },
        {
          "output_type": "display_data",
          "data": {
            "text/plain": [
              "<Figure size 432x288 with 1 Axes>"
            ],
            "image/png": "[encoded data removed]"
          },
          "metadata": {
            "needs_background": "light"
          }
        }
      ],
      "source": [
        "# Here's an example training loop using this two-layer model. Can you do better? \n",
        "learning_rate = 0.01  \n",
        "num_examples = x_train.shape[0]\n",
        "batch_size = 10000\n",
        "num_batches = int(num_examples / batch_size)\n",
        "#run a bunch of epochs\n",
        "num_epochs = 1000\n",
        "losses = numpy.zeros(num_batches*num_epochs,)\n",
        "indices = numpy.arange(num_examples)\n",
        "#but break if nothing is happening\n",
        "noincrease_cnt = 0\n",
        "noincrease_max = 10\n",
        "last_acc = 0\n",
        "i = 0\n",
        "for epoch in range(0, num_epochs):\n",
        "    # in each epoch, we loop over all of the training examples\n",
        "    for step in range(0, num_batches):\n",
        "        # grabbing the next batch\n",
        "        offset = step * batch_size\n",
        "        batch_range = range(offset, offset+batch_size)\n",
        "        x_train_batch = x_train[batch_range, :]\n",
        "        y_train_batch = y_train_onehot[batch_range,:]\n",
        "        \n",
        "        # feed the next batch in to do one sgd step\n",
        "        loss, model = learn(model, x_train_batch, y_train_batch, learning_rate)\n",
        "        losses[i] = loss\n",
        "        i += 1\n",
        "\n",
        "    acc = accuracy(model, x_train, y_train)\n",
        "    print(\"epoch %d, loss %.5f, accuracy %.2f\" % (epoch, loss, acc))\n",
        "    \n",
        "    # reshuffle the data so that we get a new set of batches\n",
        "    numpy.random.shuffle(indices)\n",
        "    x_train = x_train[indices,:]\n",
        "    y_train = y_train[indices] # keep this shuffled the same way for use in accuracy calculation\n",
        "    y_train_onehot = y_train_onehot[indices,:]\n",
        "    #check if losses aren't improving and then just break\n",
        "    if round(losses[i],5)-round(losses[i-1],5) <= 0: \n",
        "      noincrease_cnt = noincrease_cnt + 1\n",
        "    else:\n",
        "      noincrease_cnt = 0\n",
        "    if noincrease_cnt > noincrease_max: break\n",
        "plt.plot(losses)"
      ]
    },
    {
      "cell_type": "code",
      "execution_count": null,
      "id": "a4f274c6",
      "metadata": {
        "id": "a4f274c6"
      },
      "outputs": [],
      "source": [
        "accuracy(model, x_train, y_train)"
      ]
    },
    {
      "cell_type": "markdown",
      "id": "a2dd5728",
      "metadata": {
        "id": "a2dd5728"
      },
      "source": [
        "# Homework: improve the accuracy of this model. "
      ]
    },
    {
      "cell_type": "markdown",
      "id": "faaf0515",
      "metadata": {
        "id": "faaf0515"
      },
      "source": [
        "Update this notebook so that the accuracy is improved. How high can you get it? You could change things directly in the notebook, such as increasing the number of epochs, changing the learning weight, changing the width of the hidden layer, etc. If you're more ambitious, you could also try changing the model definition itself by checking out the associated Python files. For example, you could add more layers to the network. The current notebook has a training accuracy of about 43%, but will vary with randomness."
      ]
    },
    {
      "cell_type": "code",
      "execution_count": null,
      "id": "6e484c13",
      "metadata": {
        "id": "6e484c13"
      },
      "outputs": [],
      "source": []
    }
  ],
  "metadata": {
    "kernelspec": {
      "display_name": "Python 3 (ipykernel)",
      "language": "python",
      "name": "python3"
    },
    "language_info": {
      "codemirror_mode": {
        "name": "ipython",
        "version": 3
      },
      "file_extension": ".py",
      "mimetype": "text/x-python",
      "name": "python",
      "nbconvert_exporter": "python",
      "pygments_lexer": "ipython3",
      "version": "3.7.4"
    },
    "colab": {
      "provenance": []
    }
  },
  "nbformat": 4,
  "nbformat_minor": 5
}