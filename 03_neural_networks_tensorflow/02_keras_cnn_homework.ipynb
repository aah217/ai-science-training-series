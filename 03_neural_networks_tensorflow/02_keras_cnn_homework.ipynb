{
  "cells": [
    {
      "cell_type": "markdown",
      "metadata": {
        "id": "HRnJsNfeiMyH"
      },
      "source": [
        "# CIFAR-10 dataset classification with CNNs\n",
        "\n",
        "Author: Tanwi Mallick, adapting codes from Bethany Lusch, Prasanna Balprakash, Corey Adams, and Kyle Felker\n",
        "\n",
        "In this notebook, we'll continue the CIFAR-10 problem using the Keras API (as included in the TensorFlow library) and incorporating convolutional layers.\n",
        "\n",
        "First, the needed imports."
      ]
    },
    {
      "cell_type": "code",
      "execution_count": 2,
      "metadata": {
        "id": "XXXfKtCJiMyO"
      },
      "outputs": [],
      "source": [
        "%matplotlib inline\n",
        "\n",
        "import tensorflow as tf\n",
        "\n",
        "import numpy\n",
        "import matplotlib.pyplot as plt\n",
        "import time"
      ]
    },
    {
      "cell_type": "markdown",
      "metadata": {
        "id": "LvAi_GQziMyQ"
      },
      "source": [
        "## CIFAR-10 data set\n",
        "\n",
        "Again we'll load the cifar10 data set. CIFAR-10 dataset contains 32x32 color images from 10 classes: airplane, automobile, bird, cat, deer, dog, frog, horse, ship, truck. If you haven't downloaded it already, it could take a while."
      ]
    },
    {
      "cell_type": "code",
      "execution_count": 3,
      "metadata": {
        "id": "DJ1BlFHViMyR",
        "outputId": "ed8904c7-fa52-4092-a6fe-4ed33c76b2a3",
        "colab": {
          "base_uri": "https://localhost:8080/"
        }
      },
      "outputs": [
        {
          "output_type": "stream",
          "name": "stdout",
          "text": [
            "Downloading data from https://www.cs.toronto.edu/~kriz/cifar-10-python.tar.gz\n",
            "170500096/170498071 [==============================] - 3s 0us/step\n",
            "170508288/170498071 [==============================] - 3s 0us/step\n"
          ]
        }
      ],
      "source": [
        "(x_train, y_train), (x_test, y_test) = tf.keras.datasets.cifar10.load_data()\n",
        "x_train = x_train.astype(numpy.float32)\n",
        "x_test  = x_test.astype(numpy.float32)\n",
        "\n",
        "x_train /= 255.\n",
        "x_test  /= 255.\n",
        "\n",
        "y_train = y_train.astype(numpy.int32)\n",
        "y_test  = y_test.astype(numpy.int32)"
      ]
    },
    {
      "cell_type": "markdown",
      "metadata": {
        "id": "pL1KKT1iiMyS"
      },
      "source": [
        "This time we won't flatten the images. \n",
        "\n",
        "The training data (`X_train`) is a 3rd-order tensor of size (50000, 32, 32), i.e. it consists of 50000 images of size 32x32 pixels. \n",
        "\n",
        "`y_train` is a 50000-dimensional vector containing the correct classes ('airplane', 'automobile', 'bird', 'cat', 'deer', 'dog', 'frog', 'horse', 'ship', 'truck') for each training sample."
      ]
    },
    {
      "cell_type": "markdown",
      "metadata": {
        "id": "2H-n_oEqiMyT"
      },
      "source": [
        "## Convolutional neural network (CNN)\n",
        "\n",
        "CNN is a type of deep learning model for processing data that has a grid pattern, such as images.\n",
        "\n",
        "Let's use a small model that includes convolutional layers\n",
        "\n",
        "- The Conv2D layers operate on 2D matrices so we input the images directly to the model.\n",
        "    - The two Conv2D layers below learn 32 and 64 filters respectively. \n",
        "    - They are learning filters for 3x3 windows.\n",
        "- The MaxPooling2D layer reduces the spatial dimensions, that is, makes the image smaller.\n",
        "    - It downsamples by taking the maximum value in the window \n",
        "    - The pool size of (2, 2) below means the windows are 2x2. \n",
        "    - Helps in extracting important features and reduce computation\n",
        "- The Flatten layer flattens the 2D matrices into vectors, so we can then switch to Dense layers as in the MLP model.\n",
        "\n",
        "See https://keras.io/layers/convolutional/, https://keras.io/layers/pooling/ for more information."
      ]
    },
    {
      "cell_type": "markdown",
      "metadata": {
        "id": "NhdkonaAiMyV"
      },
      "source": [
        "![conv layer](https://github.com/aah217/ai-science-training-series/blob/main/03_neural_networks_tensorflow/images/conv_layer.png?raw=1)\n",
        "Image credit: [Jason Brownlee](https://machinelearningmastery.com/convolutional-layers-for-deep-learning-neural-networks/)"
      ]
    },
    {
      "cell_type": "markdown",
      "metadata": {
        "id": "yM93IkyAiMyW"
      },
      "source": [
        "![conv layer](https://github.com/aah217/ai-science-training-series/blob/main/03_neural_networks_tensorflow/images/conv.png?raw=1)\n",
        "Image credit: [Anh H. Reynolds](https://anhreynolds.com/blogs/cnn.html)"
      ]
    },
    {
      "cell_type": "markdown",
      "metadata": {
        "id": "XbLNO16siMyX"
      },
      "source": [
        "\n",
        "<img src=\"https://github.com/aah217/ai-science-training-series/blob/main/03_neural_networks_tensorflow/images/MaxpoolSample2.png?raw=1\" width=\"600\" hight=\"600\" align=\"left\"/>"
      ]
    },
    {
      "cell_type": "code",
      "execution_count": 4,
      "metadata": {
        "id": "6QT2WrG_iMyY"
      },
      "outputs": [],
      "source": [
        "class CIFAR10Classifier(tf.keras.models.Model):\n",
        "\n",
        "    def __init__(self, activation=tf.nn.tanh):\n",
        "        tf.keras.models.Model.__init__(self)\n",
        "\n",
        "        self.conv_1 = tf.keras.layers.Conv2D(32, [3, 3], activation='relu')\n",
        "        self.conv_2 = tf.keras.layers.Conv2D(64, [3, 3], activation='relu')\n",
        "        self.pool_3 = tf.keras.layers.MaxPooling2D(pool_size=(2, 2))\n",
        "        self.drop_4 = tf.keras.layers.Dropout(0.25)\n",
        "        self.dense_5 = tf.keras.layers.Dense(128, activation='relu')\n",
        "        self.drop_6 = tf.keras.layers.Dropout(0.5)\n",
        "        self.dense_7 = tf.keras.layers.Dense(10, activation='softmax')\n",
        "\n",
        "    def call(self, inputs):\n",
        "\n",
        "        x = self.conv_1(inputs)\n",
        "        x = self.conv_2(x)\n",
        "        x = self.pool_3(x)\n",
        "        x = self.drop_4(x)\n",
        "        x = tf.keras.layers.Flatten()(x)\n",
        "        x = self.dense_5(x)\n",
        "        x = self.drop_6(x)\n",
        "        x = self.dense_7(x)\n",
        "\n",
        "        return x"
      ]
    },
    {
      "cell_type": "markdown",
      "metadata": {
        "id": "pkbej7zBiMyZ"
      },
      "source": [
        "### Simple training"
      ]
    },
    {
      "cell_type": "markdown",
      "metadata": {
        "id": "uwHA6J0QiMyZ"
      },
      "source": [
        "Here is a concise way to train the network, like we did in the previous notebook. We'll see a more verbose approach below that allows more performance tuning."
      ]
    },
    {
      "cell_type": "code",
      "execution_count": 5,
      "metadata": {
        "id": "oQRAdFxoiMyZ"
      },
      "outputs": [],
      "source": [
        "def train_network_concise(_batch_size, _n_training_epochs, _lr):\n",
        "\n",
        "    cnn_model = CIFAR10Classifier()\n",
        "\n",
        "    cnn_model.compile(loss=\"sparse_categorical_crossentropy\", optimizer=\"adam\", metrics=['accuracy'])\n",
        "    \n",
        "    history = cnn_model.fit(x_train, y_train, batch_size=_batch_size, epochs=_n_training_epochs)\n",
        "    return history, cnn_model"
      ]
    },
    {
      "cell_type": "code",
      "execution_count": 6,
      "metadata": {
        "id": "PUFRjq2DiMya",
        "outputId": "e6bb7168-f10a-4565-aed3-3fe3f98169c4",
        "colab": {
          "base_uri": "https://localhost:8080/"
        }
      },
      "outputs": [
        {
          "output_type": "stream",
          "name": "stdout",
          "text": [
            "Epoch 1/3\n",
            "98/98 [==============================] - 144s 1s/step - loss: 1.7292 - accuracy: 0.3719\n",
            "Epoch 2/3\n",
            "98/98 [==============================] - 140s 1s/step - loss: 1.3679 - accuracy: 0.5127\n",
            "Epoch 3/3\n",
            "98/98 [==============================] - 140s 1s/step - loss: 1.2267 - accuracy: 0.5651\n"
          ]
        }
      ],
      "source": [
        "# This took 43 seconds per epoch on my laptop\n",
        "batch_size = 512\n",
        "epochs = 3\n",
        "lr = .01\n",
        "history, cnn_model = train_network_concise(batch_size, epochs, lr)"
      ]
    },
    {
      "cell_type": "markdown",
      "metadata": {
        "id": "hyycPBs0iMyb"
      },
      "source": [
        "Accuracy for test data.  The model should be better than the non-convolutional model even if you're only patient enough for three epochs. "
      ]
    },
    {
      "cell_type": "code",
      "execution_count": 7,
      "metadata": {
        "id": "aklTcF_QiMyb",
        "outputId": "3e6d004a-bcd9-4387-b565-90d4fd7b5b67",
        "colab": {
          "base_uri": "https://localhost:8080/",
          "height": 437
        }
      },
      "outputs": [
        {
          "output_type": "display_data",
          "data": {
            "text/plain": [
              "<Figure size 360x216 with 1 Axes>"
            ],
            "image/png": "[encoded data removed]"
          },
          "metadata": {
            "needs_background": "light"
          }
        },
        {
          "output_type": "display_data",
          "data": {
            "text/plain": [
              "<Figure size 360x216 with 1 Axes>"
            ],
            "image/png": "[encoded data removed]"
          },
          "metadata": {
            "needs_background": "light"
          }
        }
      ],
      "source": [
        "plt.figure(figsize=(5,3))\n",
        "plt.plot(history.epoch,history.history['loss'])\n",
        "plt.title('loss')\n",
        "\n",
        "plt.figure(figsize=(5,3))\n",
        "plt.plot(history.epoch,history.history['accuracy'])\n",
        "plt.title('accuracy');"
      ]
    },
    {
      "cell_type": "markdown",
      "metadata": {
        "id": "lqU16YK6iMyc"
      },
      "source": [
        "### Inference"
      ]
    },
    {
      "cell_type": "markdown",
      "metadata": {
        "id": "3-tqtfFyiMyc"
      },
      "source": [
        "With enough training epochs, the test accuracy should exceed 96.53%.\n",
        "\n",
        "You can compare your result with the state-of-the art [here](http://rodrigob.github.io/are_we_there_yet/build/classification_datasets_results.html). "
      ]
    },
    {
      "cell_type": "code",
      "execution_count": 8,
      "metadata": {
        "id": "OZNH2Z4niMyc",
        "outputId": "664c07d9-a796-4b88-932b-29b0fdd1ab7b",
        "colab": {
          "base_uri": "https://localhost:8080/"
        }
      },
      "outputs": [
        {
          "output_type": "stream",
          "name": "stdout",
          "text": [
            "313/313 - 7s - loss: 1.1027 - accuracy: 0.6122 - 7s/epoch - 24ms/step\n",
            "accuracy: 61.22%\n",
            "CPU times: user 13.5 s, sys: 229 ms, total: 13.7 s\n",
            "Wall time: 7.55 s\n"
          ]
        }
      ],
      "source": [
        "%%time\n",
        "x_test_reshaped = numpy.expand_dims(x_test, -1)\n",
        "scores = cnn_model.evaluate(x_test, y_test, verbose=2)\n",
        "print(\"%s: %.2f%%\" % (cnn_model.metrics_names[1], scores[1]*100))"
      ]
    },
    {
      "cell_type": "markdown",
      "metadata": {
        "id": "DuWKDeKpiMyd"
      },
      "source": [
        "We can also again check the confusion matrix"
      ]
    },
    {
      "cell_type": "code",
      "execution_count": 9,
      "metadata": {
        "id": "pZF0mcgtiMyd",
        "outputId": "06dd1b5e-8a20-43ce-b0db-f57ab0d45840",
        "colab": {
          "base_uri": "https://localhost:8080/"
        }
      },
      "outputs": [
        {
          "output_type": "stream",
          "name": "stdout",
          "text": [
            "Confusion matrix (rows: true classes; columns: predicted classes):\n",
            "\n",
            "[[691  37  33  16  21   3  20   4 125  50]\n",
            " [ 28 793   3   2   2   2  17   6  35 112]\n",
            " [ 93  17 319  43 167  81 195  37  28  20]\n",
            " [ 24  26  48 336 103 122 252  34  17  38]\n",
            " [ 41  12  40  43 548  14 226  53  20   3]\n",
            " [ 20   9  50 171  98 447 108  61  20  16]\n",
            " [  5  13  18  25  25   6 887   5   7   9]\n",
            " [ 25   9  22  36  96  59  48 651   9  45]\n",
            " [ 96  88   6  10   4   3  17   5 722  49]\n",
            " [ 42 140   6   9   5   3  17  13  37 728]]\n",
            "\n",
            "Classification accuracy for each class:\n",
            "\n",
            "0: 0.6910\n",
            "1: 0.7930\n",
            "2: 0.3190\n",
            "3: 0.3360\n",
            "4: 0.5480\n",
            "5: 0.4470\n",
            "6: 0.8870\n",
            "7: 0.6510\n",
            "8: 0.7220\n",
            "9: 0.7280\n"
          ]
        }
      ],
      "source": [
        "from sklearn.metrics import confusion_matrix\n",
        "\n",
        "print('Confusion matrix (rows: true classes; columns: predicted classes):'); print()\n",
        "predictions = cnn_model.predict(x_test)\n",
        "cm=confusion_matrix(y_test, numpy.argmax(predictions, axis=1), labels=list(range(10)))\n",
        "print(cm); print()\n",
        "\n",
        "print('Classification accuracy for each class:'); print()\n",
        "for i,j in enumerate(cm.diagonal()/cm.sum(axis=1)): print(\"%d: %.4f\" % (i,j))"
      ]
    },
    {
      "cell_type": "markdown",
      "metadata": {
        "id": "_6mcxq3qiMyd"
      },
      "source": [
        "### More verbose training"
      ]
    },
    {
      "cell_type": "markdown",
      "metadata": {
        "id": "LCYZXybOiMye"
      },
      "source": [
        "This approach explicitly handles the looping over data. It will be helpful in future weeks for diving in and optimizing"
      ]
    },
    {
      "cell_type": "code",
      "execution_count": 10,
      "metadata": {
        "id": "8WUCPr3giMye"
      },
      "outputs": [],
      "source": [
        "def compute_loss(y_true, y_pred):\n",
        "    # if labels are integers, use sparse categorical crossentropy\n",
        "    # network's final layer is softmax, so from_logtis=False\n",
        "    scce = tf.keras.losses.SparseCategoricalCrossentropy(from_logits=False)\n",
        "    # if labels are one-hot encoded, use standard crossentropy\n",
        "\n",
        "    return scce(y_true, y_pred)  "
      ]
    },
    {
      "cell_type": "code",
      "execution_count": 11,
      "metadata": {
        "id": "GZqek6wwiMye"
      },
      "outputs": [],
      "source": [
        "def forward_pass(model, batch_data, y_true):\n",
        "    y_pred = model(batch_data)\n",
        "    loss = compute_loss(y_true, y_pred)\n",
        "    return loss"
      ]
    },
    {
      "cell_type": "code",
      "execution_count": 12,
      "metadata": {
        "id": "tUD-2RnKiMyf"
      },
      "outputs": [],
      "source": [
        "# Here is a function that will manage the training loop for us:\n",
        "\n",
        "def train_loop(batch_size, n_training_epochs, model, opt):\n",
        "    \n",
        "    @tf.function()\n",
        "    def train_iteration(data, y_true, model, opt):\n",
        "        with tf.GradientTape() as tape:\n",
        "            loss = forward_pass(model, data, y_true)\n",
        "\n",
        "        trainable_vars = model.trainable_variables\n",
        "\n",
        "        # Apply the update to the network (one at a time):\n",
        "        grads = tape.gradient(loss, trainable_vars)\n",
        "\n",
        "        opt.apply_gradients(zip(grads, trainable_vars))\n",
        "        return loss\n",
        "\n",
        "    for i_epoch in range(n_training_epochs):\n",
        "        print(\"beginning epoch %d\" % i_epoch)\n",
        "        start = time.time()\n",
        "\n",
        "        epoch_steps = int(50000/batch_size)\n",
        "        dataset.shuffle(50000) # Shuffle the whole dataset in memory\n",
        "        batches = dataset.batch(batch_size=batch_size, drop_remainder=True)\n",
        "        \n",
        "        for i_batch, (batch_data, y_true) in enumerate(batches):\n",
        "            batch_data = tf.reshape(batch_data, [-1, 32, 32, 3])\n",
        "            loss = train_iteration(batch_data, y_true, model, opt)\n",
        "            \n",
        "        end = time.time()\n",
        "        print(\"took %1.1f seconds for epoch #%d\" % (end-start, i_epoch))"
      ]
    },
    {
      "cell_type": "code",
      "execution_count": 13,
      "metadata": {
        "id": "swttBwIiiMyf"
      },
      "outputs": [],
      "source": [
        "def train_network(_batch_size, _n_training_epochs, _lr):\n",
        "\n",
        "    cifar_model = CIFAR10Classifier()\n",
        "\n",
        "    opt = tf.keras.optimizers.Adam(_lr)\n",
        "\n",
        "    train_loop(_batch_size, _n_training_epochs, cifar_model, opt)"
      ]
    },
    {
      "cell_type": "code",
      "execution_count": 14,
      "metadata": {
        "id": "0sh4IocgiMyf",
        "outputId": "29c533fd-4066-4151-aad4-f36b6cf043e5",
        "colab": {
          "base_uri": "https://localhost:8080/"
        }
      },
      "outputs": [
        {
          "output_type": "stream",
          "name": "stdout",
          "text": [
            "beginning epoch 0\n",
            "took 131.7 seconds for epoch #0\n",
            "beginning epoch 1\n",
            "took 130.2 seconds for epoch #1\n",
            "beginning epoch 2\n",
            "took 130.5 seconds for epoch #2\n"
          ]
        }
      ],
      "source": [
        "dataset = tf.data.Dataset.from_tensor_slices((x_train, y_train))\n",
        "dataset.shuffle(50000)\n",
        "\n",
        "batch_size = 512\n",
        "epochs = 3\n",
        "lr = .01\n",
        "train_network(batch_size, epochs, lr)"
      ]
    },
    {
      "cell_type": "markdown",
      "metadata": {
        "id": "qoP7cIsbiMyf"
      },
      "source": [
        "# Homework: improve the accuracy of this model"
      ]
    },
    {
      "cell_type": "markdown",
      "metadata": {
        "id": "Si-kW8aYiMyg"
      },
      "source": [
        "Update this notebook to ensure more accuracy. How high can it be raised? Changes like increasing the number of epochs, altering the learning rate, altering the number of neurons the hidden layer, chnaging the optimizer, etc. could be made directly in the notebook. You can also change the model specification by expanding the network's layer. The current notebook's training accuracy is roughly 58.69%, although it varies randomly."
      ]
    },
    {
      "cell_type": "code",
      "execution_count": 15,
      "metadata": {
        "id": "l6l25PMfiMyg",
        "outputId": "33a27b22-212a-49f5-f6c0-f22b91a1e1b5",
        "colab": {
          "base_uri": "https://localhost:8080/"
        }
      },
      "outputs": [
        {
          "output_type": "stream",
          "name": "stdout",
          "text": [
            "Epoch 1/3\n",
            "25/25 [==============================] - 146s 6s/step - loss: 2.1470 - accuracy: 0.2046\n",
            "Epoch 2/3\n",
            "25/25 [==============================] - 142s 6s/step - loss: 1.8315 - accuracy: 0.3343\n",
            "Epoch 3/3\n",
            "25/25 [==============================] - 142s 6s/step - loss: 1.6572 - accuracy: 0.4003\n",
            "313/313 - 11s - loss: 1.4579 - accuracy: 0.4980 - 11s/epoch - 35ms/step\n",
            "Batch size 2048\n",
            "accuracy: 49.80%\n",
            "Epoch 1/3\n",
            "49/49 [==============================] - 138s 3s/step - loss: 2.0539 - accuracy: 0.2414\n",
            "Epoch 2/3\n",
            "49/49 [==============================] - 140s 3s/step - loss: 1.6942 - accuracy: 0.3837\n",
            "Epoch 3/3\n",
            "49/49 [==============================] - 139s 3s/step - loss: 1.5295 - accuracy: 0.4458\n",
            "313/313 - 8s - loss: 1.3451 - accuracy: 0.5245 - 8s/epoch - 26ms/step\n",
            "Batch size 1024\n",
            "accuracy: 52.45%\n",
            "Epoch 1/3\n",
            "98/98 [==============================] - 141s 1s/step - loss: 1.8237 - accuracy: 0.3343\n",
            "Epoch 2/3\n",
            "98/98 [==============================] - 139s 1s/step - loss: 1.4641 - accuracy: 0.4762\n",
            "Epoch 3/3\n",
            "98/98 [==============================] - 140s 1s/step - loss: 1.3185 - accuracy: 0.5299\n",
            "313/313 - 7s - loss: 1.1462 - accuracy: 0.5986 - 7s/epoch - 24ms/step\n",
            "Batch size 512\n",
            "accuracy: 59.86%\n",
            "Epoch 1/3\n",
            "196/196 [==============================] - 145s 737ms/step - loss: 1.6871 - accuracy: 0.3858\n",
            "Epoch 2/3\n",
            "196/196 [==============================] - 144s 737ms/step - loss: 1.3531 - accuracy: 0.5148\n",
            "Epoch 3/3\n",
            "196/196 [==============================] - 144s 734ms/step - loss: 1.2134 - accuracy: 0.5691\n",
            "313/313 - 8s - loss: 1.0815 - accuracy: 0.6196 - 8s/epoch - 26ms/step\n",
            "Batch size 256\n",
            "accuracy: 61.96%\n",
            "Epoch 1/3\n",
            "391/391 [==============================] - 153s 389ms/step - loss: 1.7324 - accuracy: 0.3629\n",
            "Epoch 2/3\n",
            "391/391 [==============================] - 152s 387ms/step - loss: 1.3967 - accuracy: 0.4979\n",
            "Epoch 3/3\n",
            "391/391 [==============================] - 152s 389ms/step - loss: 1.2719 - accuracy: 0.5474\n",
            "313/313 - 8s - loss: 1.0877 - accuracy: 0.6194 - 8s/epoch - 26ms/step\n",
            "Batch size 128\n",
            "accuracy: 61.94%\n"
          ]
        }
      ],
      "source": [
        "#parameter scan batch_size\n",
        "for batch_size in (2048,1024,512,256,128):\n",
        "  epochs = 3\n",
        "  lr = .01\n",
        "  history, cnn_model = train_network_concise(batch_size, epochs, lr)\n",
        "  x_test_reshaped = numpy.expand_dims(x_test, -1)\n",
        "  scores = cnn_model.evaluate(x_test, y_test, verbose=2)\n",
        "  print(\"Batch size\",batch_size)\n",
        "  print(\"%s: %.2f%%\" % (cnn_model.metrics_names[1], scores[1]*100))\n"
      ]
    },
    {
      "cell_type": "code",
      "source": [
        "#parameter scan learning rate\n",
        "for lr in (1,0.1,0.01,0.001,0.0001):\n",
        "  batch_size = 256\n",
        "  epochs = 3\n",
        "  history, cnn_model = train_network_concise(batch_size, epochs, lr)\n",
        "  x_test_reshaped = numpy.expand_dims(x_test, -1)\n",
        "  scores = cnn_model.evaluate(x_test, y_test, verbose=2)\n",
        "  print(\"Learning rate\",lr)\n",
        "  print(\"%s: %.2f%%\" % (cnn_model.metrics_names[1], scores[1]*100))"
      ],
      "metadata": {
        "id": "mk-X9vgovs5a",
        "outputId": "49b88c72-78db-49e3-9186-7e2e7cb2a6cd",
        "colab": {
          "base_uri": "https://localhost:8080/"
        }
      },
      "execution_count": 17,
      "outputs": [
        {
          "output_type": "stream",
          "name": "stdout",
          "text": [
            "Epoch 1/3\n",
            "196/196 [==============================] - 163s 829ms/step - loss: 1.6853 - accuracy: 0.3853\n",
            "Epoch 2/3\n",
            "196/196 [==============================] - 159s 809ms/step - loss: 1.3348 - accuracy: 0.5217\n",
            "Epoch 3/3\n",
            "196/196 [==============================] - 155s 789ms/step - loss: 1.1943 - accuracy: 0.5773\n",
            "313/313 - 8s - loss: 1.0480 - accuracy: 0.6329 - 8s/epoch - 25ms/step\n",
            "Learning rate 1\n",
            "accuracy: 63.29%\n",
            "Epoch 1/3\n",
            "196/196 [==============================] - 157s 798ms/step - loss: 1.6961 - accuracy: 0.3817\n",
            "Epoch 2/3\n",
            "196/196 [==============================] - 154s 785ms/step - loss: 1.3543 - accuracy: 0.5169\n",
            "Epoch 3/3\n",
            "196/196 [==============================] - 154s 785ms/step - loss: 1.2169 - accuracy: 0.5684\n",
            "313/313 - 8s - loss: 1.0494 - accuracy: 0.6372 - 8s/epoch - 26ms/step\n",
            "Learning rate 0.1\n",
            "accuracy: 63.72%\n",
            "Epoch 1/3\n",
            "196/196 [==============================] - 153s 771ms/step - loss: 1.7423 - accuracy: 0.3652\n",
            "Epoch 2/3\n",
            "196/196 [==============================] - 149s 762ms/step - loss: 1.4222 - accuracy: 0.4907\n",
            "Epoch 3/3\n",
            "196/196 [==============================] - 149s 761ms/step - loss: 1.2802 - accuracy: 0.5424\n",
            "313/313 - 8s - loss: 1.1154 - accuracy: 0.6029 - 8s/epoch - 25ms/step\n",
            "Learning rate 0.01\n",
            "accuracy: 60.29%\n",
            "Epoch 1/3\n",
            "196/196 [==============================] - 152s 775ms/step - loss: 1.6623 - accuracy: 0.3945\n",
            "Epoch 2/3\n",
            "196/196 [==============================] - 154s 785ms/step - loss: 1.3135 - accuracy: 0.5319\n",
            "Epoch 3/3\n",
            "196/196 [==============================] - 152s 774ms/step - loss: 1.1712 - accuracy: 0.5896\n",
            "313/313 - 8s - loss: 1.0227 - accuracy: 0.6399 - 8s/epoch - 25ms/step\n",
            "Learning rate 0.001\n",
            "accuracy: 63.99%\n",
            "Epoch 1/3\n",
            "196/196 [==============================] - 154s 782ms/step - loss: 1.7106 - accuracy: 0.3779\n",
            "Epoch 2/3\n",
            "196/196 [==============================] - 152s 775ms/step - loss: 1.3428 - accuracy: 0.5205\n",
            "Epoch 3/3\n",
            "196/196 [==============================] - 151s 772ms/step - loss: 1.2013 - accuracy: 0.5744\n",
            "313/313 - 8s - loss: 1.0558 - accuracy: 0.6399 - 8s/epoch - 26ms/step\n",
            "Learning rate 0.0001\n",
            "accuracy: 63.99%\n"
          ]
        }
      ]
    },
    {
      "cell_type": "code",
      "source": [
        "#parameter scan epochs\n",
        "for epochs in (3,6,9,12):\n",
        "  batch_size = 256\n",
        "  lr = 0.0001\n",
        "  history, cnn_model = train_network_concise(batch_size, epochs, lr)\n",
        "  x_test_reshaped = numpy.expand_dims(x_test, -1)\n",
        "  scores = cnn_model.evaluate(x_test, y_test, verbose=2)\n",
        "  print(\"epochs\",epochs)\n",
        "  print(\"%s: %.2f%%\" % (cnn_model.metrics_names[1], scores[1]*100))"
      ],
      "metadata": {
        "id": "IoTs2vitEXLQ",
        "outputId": "a8c37dd2-327c-424b-ce70-9f7636dc3872",
        "colab": {
          "base_uri": "https://localhost:8080/"
        }
      },
      "execution_count": 18,
      "outputs": [
        {
          "output_type": "stream",
          "name": "stdout",
          "text": [
            "Epoch 1/3\n",
            "196/196 [==============================] - 154s 784ms/step - loss: 1.7406 - accuracy: 0.3666\n",
            "Epoch 2/3\n",
            "196/196 [==============================] - 154s 787ms/step - loss: 1.3839 - accuracy: 0.5046\n",
            "Epoch 3/3\n",
            "196/196 [==============================] - 155s 790ms/step - loss: 1.2496 - accuracy: 0.5541\n",
            "313/313 - 8s - loss: 1.0973 - accuracy: 0.6164 - 8s/epoch - 25ms/step\n",
            "epochs 3\n",
            "accuracy: 61.64%\n",
            "Epoch 1/6\n",
            "196/196 [==============================] - 154s 785ms/step - loss: 1.6953 - accuracy: 0.3818\n",
            "Epoch 2/6\n",
            "196/196 [==============================] - 154s 786ms/step - loss: 1.3387 - accuracy: 0.5243\n",
            "Epoch 3/6\n",
            "196/196 [==============================] - 155s 791ms/step - loss: 1.1922 - accuracy: 0.5788\n",
            "Epoch 4/6\n",
            "196/196 [==============================] - 157s 803ms/step - loss: 1.1197 - accuracy: 0.6035\n",
            "Epoch 5/6\n",
            "196/196 [==============================] - 154s 786ms/step - loss: 1.0644 - accuracy: 0.6259\n",
            "Epoch 6/6\n",
            "196/196 [==============================] - 153s 783ms/step - loss: 1.0124 - accuracy: 0.6406\n",
            "313/313 - 8s - loss: 0.9286 - accuracy: 0.6785 - 8s/epoch - 25ms/step\n",
            "epochs 6\n",
            "accuracy: 67.85%\n",
            "Epoch 1/9\n",
            "196/196 [==============================] - 153s 776ms/step - loss: 1.7025 - accuracy: 0.3804\n",
            "Epoch 2/9\n",
            "196/196 [==============================] - 151s 768ms/step - loss: 1.3410 - accuracy: 0.5212\n",
            "Epoch 3/9\n",
            "196/196 [==============================] - 151s 768ms/step - loss: 1.2043 - accuracy: 0.5742\n",
            "Epoch 4/9\n",
            "196/196 [==============================] - 150s 767ms/step - loss: 1.1145 - accuracy: 0.6051\n",
            "Epoch 5/9\n",
            "196/196 [==============================] - 149s 763ms/step - loss: 1.0584 - accuracy: 0.6271\n",
            "Epoch 6/9\n",
            "196/196 [==============================] - 149s 759ms/step - loss: 1.0099 - accuracy: 0.6442\n",
            "Epoch 7/9\n",
            "196/196 [==============================] - 154s 788ms/step - loss: 0.9649 - accuracy: 0.6578\n",
            "Epoch 8/9\n",
            "196/196 [==============================] - 151s 769ms/step - loss: 0.9184 - accuracy: 0.6760\n",
            "Epoch 9/9\n",
            "196/196 [==============================] - 152s 776ms/step - loss: 0.8880 - accuracy: 0.6849\n",
            "313/313 - 9s - loss: 0.9163 - accuracy: 0.6807 - 9s/epoch - 29ms/step\n",
            "epochs 9\n",
            "accuracy: 68.07%\n",
            "Epoch 1/12\n",
            "196/196 [==============================] - 152s 774ms/step - loss: 1.7495 - accuracy: 0.3651\n",
            "Epoch 2/12\n",
            "196/196 [==============================] - 154s 785ms/step - loss: 1.4102 - accuracy: 0.4950\n",
            "Epoch 3/12\n",
            "196/196 [==============================] - 154s 787ms/step - loss: 1.2703 - accuracy: 0.5486\n",
            "Epoch 4/12\n",
            "196/196 [==============================] - 153s 781ms/step - loss: 1.1826 - accuracy: 0.5801\n",
            "Epoch 5/12\n",
            "196/196 [==============================] - 153s 779ms/step - loss: 1.1074 - accuracy: 0.6085\n",
            "Epoch 6/12\n",
            "196/196 [==============================] - 153s 783ms/step - loss: 1.0570 - accuracy: 0.6275\n",
            "Epoch 7/12\n",
            "196/196 [==============================] - 153s 779ms/step - loss: 1.0084 - accuracy: 0.6410\n",
            "Epoch 8/12\n",
            "196/196 [==============================] - 153s 779ms/step - loss: 0.9636 - accuracy: 0.6604\n",
            "Epoch 9/12\n",
            "196/196 [==============================] - 153s 779ms/step - loss: 0.9217 - accuracy: 0.6733\n",
            "Epoch 10/12\n",
            "196/196 [==============================] - 155s 789ms/step - loss: 0.8927 - accuracy: 0.6832\n",
            "Epoch 11/12\n",
            "196/196 [==============================] - 155s 792ms/step - loss: 0.8674 - accuracy: 0.6912\n",
            "Epoch 12/12\n",
            "196/196 [==============================] - 154s 786ms/step - loss: 0.8420 - accuracy: 0.7012\n",
            "313/313 - 8s - loss: 0.8742 - accuracy: 0.6954 - 8s/epoch - 25ms/step\n",
            "epochs 12\n",
            "accuracy: 69.54%\n"
          ]
        }
      ]
    },
    {
      "cell_type": "markdown",
      "source": [
        "Lowering batch size improved accuracy but seemed to reach a plateau around a batch size of 256. Lowering learning rate had only a small effect on accuracy. Increasing number of epochs improved accuracy up to close to 70% but seemingly has not yet plateaued. Stopped checking at 12 epochs as it's a slow process."
      ],
      "metadata": {
        "id": "kYHXJh8qDjY-"
      }
    }
  ],
  "metadata": {
    "kernelspec": {
      "display_name": "Python 3",
      "language": "python",
      "name": "python3"
    },
    "language_info": {
      "codemirror_mode": {
        "name": "ipython",
        "version": 3
      },
      "file_extension": ".py",
      "mimetype": "text/x-python",
      "name": "python",
      "nbconvert_exporter": "python",
      "pygments_lexer": "ipython3",
      "version": "3.7.3"
    },
    "colab": {
      "provenance": []
    }
  },
  "nbformat": 4,
  "nbformat_minor": 0
}